{
 "cells": [
  {
   "cell_type": "code",
   "execution_count": null,
   "metadata": {},
   "outputs": [],
   "source": [
    "import selenium\n",
    "from selenium import webdriver\n",
    "from selenium.webdriver.common.by import By\n",
    "from selenium.webdriver.common.keys import Keys\n",
    "from selenium.webdriver.edge.service import Service\n",
    "from selenium.webdriver.support.ui import WebDriverWait\n",
    "from selenium.webdriver.support import expected_conditions as EC\n",
    "from time import sleep\n",
    "import stdiomask\n",
    "import requests\n",
    "import os\n"
   ]
  },
  {
   "cell_type": "code",
   "execution_count": null,
   "metadata": {},
   "outputs": [],
   "source": [
    "my_user = \"\"\n",
    "my_password = \" \""
   ]
  },
  {
   "cell_type": "code",
   "execution_count": null,
   "metadata": {},
   "outputs": [],
   "source": [
    "dest_loc = r'C:\\Users\\hamza\\PycharmProjects\\CS50P\\CS50p\\project\\images'\n"
   ]
  },
  {
   "cell_type": "code",
   "execution_count": null,
   "metadata": {},
   "outputs": [],
   "source": [
    "PATH = \"C:\\Program Files\\drivers\\chromedriver.exe\"\n",
    "service = Service(PATH)\n",
    "driver = webdriver.Chrome(service=service)\n",
    "driver.get(\"https://www.instagram.com/\")\n",
    "driver.maximize_window()"
   ]
  },
  {
   "cell_type": "code",
   "execution_count": null,
   "metadata": {},
   "outputs": [],
   "source": [
    "user_name = driver.find_element(By.XPATH,\"//input[@name='username']\")\n",
    "user_name.send_keys(my_user)\n",
    "user_name.send_keys(Keys.ENTER)\n",
    "sleep(3)\n",
    "# Enter password\n",
    "password = driver.find_element(By.XPATH,\"//input[@name='password']\")\n",
    "password.send_keys(my_password)\n",
    "password.send_keys(Keys.ENTER)\n",
    "sleep(10)"
   ]
  },
  {
   "cell_type": "code",
   "execution_count": null,
   "metadata": {},
   "outputs": [],
   "source": [
    "save_info = WebDriverWait(driver, 20).until(EC.element_to_be_clickable((By.CSS_SELECTOR, '[role=\"button\"]')))\n",
    "save_info.click()"
   ]
  },
  {
   "cell_type": "code",
   "execution_count": null,
   "metadata": {},
   "outputs": [],
   "source": [
    "notification = WebDriverWait(driver, 20).until(EC.element_to_be_clickable((By.CSS_SELECTOR, 'button._a9--._ap36._a9_1')))\n",
    "notification.click()"
   ]
  },
  {
   "cell_type": "code",
   "execution_count": null,
   "metadata": {},
   "outputs": [],
   "source": [
    "def search_on_instagram(driver, search_url):\n",
    "    if search_url:\n",
    "        driver.get(search_url)\n",
    "search_for = input(\"What are you searching for? Use @ or # \")\n",
    "def construct_search_url(search_for):\n",
    "    if \"#\" in search_for:\n",
    "        return f\"https://www.instagram.com/explore/tags/{search_for.replace('#', '')}/\"\n",
    "    elif \"@\" in search_for:\n",
    "        return f\"https://www.instagram.com/{search_for.replace('@', '')}/\"\n",
    "    else:\n",
    "        print(\"Invalid search input. Please provide a valid search term.\")\n",
    "        return None\n",
    "# Login to Instagram\n",
    "\n",
    "\n",
    "# Construct search URL\n",
    "search_url = construct_search_url(search_for)\n",
    "\n",
    "# Search on Instagram\n",
    "search_on_instagram(driver, search_url)\n",
    "sleep(10)"
   ]
  },
  {
   "cell_type": "code",
   "execution_count": null,
   "metadata": {},
   "outputs": [],
   "source": [
    "image_elements = driver.find_elements(By.XPATH, '//img[@class=\"x5yr21d xu96u03 x10l6tqk x13vifvy x87ps6o xh8yej3\"]')\n",
    "# Iterate over image elements and save them to the destination folder\n",
    "for index, image_element in enumerate(image_elements):\n",
    "    image_source = image_element.get_attribute('src')\n",
    "    print(\"Downloading Image:\", image_source)\n",
    "    # Download the image using requests\n",
    "    response = requests.get(image_source)\n",
    "    if response.status_code == 200:\n",
    "        # Construct the filename for the image\n",
    "        filename = f\"image_{index}.jpg\"  # You can modify the filename as per your requirement\n",
    "        filepath = os.path.join(dest_loc, filename)\n",
    "        # Save the image to the destination folder\n",
    "        with open(filepath, 'wb') as f:\n",
    "            f.write(response.content)\n",
    "        print(\"Image saved as:\", filepath)\n",
    "    else:\n",
    "        print(\"Failed to download image:\", image_source)\n"
   ]
  },
  {
   "cell_type": "code",
   "execution_count": null,
   "metadata": {},
   "outputs": [],
   "source": []
  }
 ],
 "metadata": {
  "kernelspec": {
   "display_name": ".venv",
   "language": "python",
   "name": "python3"
  },
  "language_info": {
   "codemirror_mode": {
    "name": "ipython",
    "version": 3
   },
   "file_extension": ".py",
   "mimetype": "text/x-python",
   "name": "python",
   "nbconvert_exporter": "python",
   "pygments_lexer": "ipython3",
   "version": "3.9.13"
  }
 },
 "nbformat": 4,
 "nbformat_minor": 2
}
